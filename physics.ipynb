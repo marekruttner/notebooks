{
 "cells": [
  {
   "attachments": {},
   "cell_type": "markdown",
   "id": "81a961a0",
   "metadata": {},
   "source": [
    "# Physics calculators "
   ]
  },
  {
   "attachments": {},
   "cell_type": "markdown",
   "id": "5fda56c7",
   "metadata": {},
   "source": [
    "**imports:**"
   ]
  },
  {
   "cell_type": "code",
   "execution_count": 14,
   "id": "b8073e7e",
   "metadata": {},
   "outputs": [],
   "source": [
    "import matplotlib.pyplot as plt \n",
    "import numpy as np\n",
    "import math as math\n",
    "\n",
    "pi = math.pi"
   ]
  },
  {
   "attachments": {},
   "cell_type": "markdown",
   "id": "77db2ce6",
   "metadata": {},
   "source": [
    "**mechanical oscillation:** <br>\n",
    "calculation works @ 75% <br>\n",
    "plotig not works"
   ]
  },
  {
   "cell_type": "code",
   "execution_count": 37,
   "id": "ded198b4",
   "metadata": {},
   "outputs": [
    {
     "name": "stdout",
     "output_type": "stream",
     "text": [
      "t = -0.0014304331491676898 s\n",
      "T = 7.0 s\n",
      "t1 = 6.998569566850832 + k * 7.0\n",
      "t2 = 4.668097099815834 + k * 7.0\n"
     ]
    },
    {
     "data": {
      "text/plain": [
       "'\\nplt_x = np.arange(y0, pi, 0.1)\\nplt_y = np.sin(y/y_max)\\n\\nplt.plot(plt_x, plt_y)\\n'"
      ]
     },
     "execution_count": 37,
     "metadata": {},
     "output_type": "execute_result"
    }
   ],
   "source": [
    "y_max = 3 \n",
    "y = -2.6\n",
    "y0 = 0\n",
    "fi = pi/3\n",
    "ω = (2*pi)/7 #math.sqrt(6/(1.2*(10**-4)))  \n",
    "\n",
    "arcsin = np.arcsin(y/y_max)\n",
    "\n",
    "t = (fi + arcsin)/ω\n",
    "\n",
    "t_s = str(t)\n",
    "\n",
    "print(f't = {t_s} s')\n",
    "\n",
    "T = (2 * pi)/ω\n",
    "\n",
    "print(f'T = {T} s')\n",
    "\n",
    "if 0 < t: \n",
    "    t1 = t\n",
    "    print(f't1 = {t1} + k * {T}')\n",
    "else: \n",
    "    t1 = t+T\n",
    "    print(f't1 = {t1} + k * {T}')\n",
    "\n",
    "#print(f't1 = {t1} + k * {T}')\n",
    "\n",
    "t2 = (pi - arcsin)/ω\n",
    "print(f't2 = {t2} + k * {T}')\n",
    "\n",
    "\"\"\"\n",
    "plt_x = np.arange(y0, pi, 0.1)\n",
    "plt_y = np.sin(y/y_max)\n",
    "\n",
    "plt.plot(plt_x, plt_y)\n",
    "\"\"\"\n"
   ]
  },
  {
   "cell_type": "code",
   "execution_count": 3,
   "id": "2840d346",
   "metadata": {},
   "outputs": [
    {
     "name": "stdout",
     "output_type": "stream",
     "text": [
      "3.1415916535897743\n"
     ]
    }
   ],
   "source": [
    "\n",
    "# Initialize denominator\n",
    "k = 1\n",
    " \n",
    "# Initialize sum\n",
    "s = 0\n",
    " \n",
    "for i in range(1000000):\n",
    " \n",
    "    # even index elements are positive\n",
    "    if i % 2 == 0:\n",
    "        s += 4/k\n",
    "    else:\n",
    " \n",
    "        # odd index elements are negative\n",
    "        s -= 4/k\n",
    " \n",
    "    # denominator is odd\n",
    "    k += 2\n",
    "     \n",
    "print(s)"
   ]
  },
  {
   "cell_type": "code",
   "execution_count": 13,
   "id": "b3bb0656",
   "metadata": {},
   "outputs": [
    {
     "data": {
      "text/plain": [
       "<Figure size 432x288 with 0 Axes>"
      ]
     },
     "metadata": {},
     "output_type": "display_data"
    }
   ],
   "source": [
    "fig = plt.figure()\n",
    "#ax = fig.add_subplot(1, 1, 1)\n",
    "circ = plt.Circle((0, 0), radius=1, edgecolor='b', facecolor='None')\n",
    "#ax.add_patch(circ)\n",
    "plt.show(circ)"
   ]
  }
 ],
 "metadata": {
  "kernelspec": {
   "display_name": "Python 3 (ipykernel)",
   "language": "python",
   "name": "python3"
  },
  "language_info": {
   "codemirror_mode": {
    "name": "ipython",
    "version": 3
   },
   "file_extension": ".py",
   "mimetype": "text/x-python",
   "name": "python",
   "nbconvert_exporter": "python",
   "pygments_lexer": "ipython3",
   "version": "3.9.7"
  }
 },
 "nbformat": 4,
 "nbformat_minor": 5
}
