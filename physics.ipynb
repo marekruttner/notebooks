{
 "cells": [
  {
   "attachments": {},
   "cell_type": "markdown",
   "id": "81a961a0",
   "metadata": {},
   "source": [
    "# Physics calculators "
   ]
  },
  {
   "attachments": {},
   "cell_type": "markdown",
   "id": "5fda56c7",
   "metadata": {},
   "source": [
    "**imports:**"
   ]
  },
  {
   "cell_type": "code",
   "execution_count": 1,
   "id": "b8073e7e",
   "metadata": {},
   "outputs": [],
   "source": [
    "import matplotlib.pyplot as plt \n",
    "import numpy as np\n",
    "import math as math"
   ]
  },
  {
   "attachments": {},
   "cell_type": "markdown",
   "id": "77db2ce6",
   "metadata": {},
   "source": [
    "**mechanical oscillation:** <br>\n",
    "calculation works @ 75% <br>\n",
    "plotig not works"
   ]
  },
  {
   "cell_type": "code",
   "execution_count": 9,
   "id": "ded198b4",
   "metadata": {},
   "outputs": [
    {
     "name": "stdout",
     "output_type": "stream",
     "text": [
      "t = 0.004405549353822533 s\n",
      "T = 0.028099258924162904 s\n",
      "t1 = 0.004405549353822533 + k * 0.028099258924162904\n",
      "t2 = 0.00964408010825892 + k * 0.028099258924162904\n"
     ]
    },
    {
     "data": {
      "text/plain": [
       "'\\nplt_x = np.arange(y0, pi, 0.1)\\nplt_y = np.sin(y/y_max)\\n\\nplt.plot(plt_x, plt_y)\\n'"
      ]
     },
     "execution_count": 9,
     "metadata": {},
     "output_type": "execute_result"
    }
   ],
   "source": [
    "y_max = 1.2*(10**-3) \n",
    "y = 1*(10**-3)\n",
    "y0 = 0\n",
    "w = math.sqrt(6/(1.2*(10**-4)))\n",
    "\n",
    "arcsin = np.arcsin(y/y_max)\n",
    "\n",
    "t = arcsin/w\n",
    "\n",
    "t_s = str(t)\n",
    "\n",
    "print(f't = {t_s} s')\n",
    "\n",
    "pi = math.pi\n",
    "\n",
    "T = (2 * pi)/w\n",
    "\n",
    "print(f'T = {T} s')\n",
    "\n",
    "t1 = f't1 = {t} + k * {T}'\n",
    "print(t1)\n",
    "\n",
    "t2 = (pi - arcsin)/w\n",
    "print(f't2 = {t2} + k * {T}')\n",
    "\n",
    "\"\"\"\n",
    "plt_x = np.arange(y0, pi, 0.1)\n",
    "plt_y = np.sin(y/y_max)\n",
    "\n",
    "plt.plot(plt_x, plt_y)\n",
    "\"\"\"\n"
   ]
  },
  {
   "cell_type": "code",
   "execution_count": 3,
   "id": "2840d346",
   "metadata": {},
   "outputs": [
    {
     "name": "stdout",
     "output_type": "stream",
     "text": [
      "3.1415916535897743\n"
     ]
    }
   ],
   "source": [
    "\n",
    "# Initialize denominator\n",
    "k = 1\n",
    " \n",
    "# Initialize sum\n",
    "s = 0\n",
    " \n",
    "for i in range(1000000):\n",
    " \n",
    "    # even index elements are positive\n",
    "    if i % 2 == 0:\n",
    "        s += 4/k\n",
    "    else:\n",
    " \n",
    "        # odd index elements are negative\n",
    "        s -= 4/k\n",
    " \n",
    "    # denominator is odd\n",
    "    k += 2\n",
    "     \n",
    "print(s)"
   ]
  },
  {
   "cell_type": "code",
   "execution_count": 8,
   "id": "b3bb0656",
   "metadata": {},
   "outputs": [
    {
     "name": "stdout",
     "output_type": "stream",
     "text": [
      "-9\n",
      "0.01\n"
     ]
    }
   ],
   "source": [
    "print(10^-3)\n",
    "print(10e-3)"
   ]
  }
 ],
 "metadata": {
  "kernelspec": {
   "display_name": "Python 3 (ipykernel)",
   "language": "python",
   "name": "python3"
  },
  "language_info": {
   "codemirror_mode": {
    "name": "ipython",
    "version": 3
   },
   "file_extension": ".py",
   "mimetype": "text/x-python",
   "name": "python",
   "nbconvert_exporter": "python",
   "pygments_lexer": "ipython3",
   "version": "3.9.7"
  }
 },
 "nbformat": 4,
 "nbformat_minor": 5
}
