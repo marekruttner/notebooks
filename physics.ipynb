{
 "cells": [
  {
   "cell_type": "code",
   "execution_count": 5,
   "id": "b8073e7e",
   "metadata": {},
   "outputs": [],
   "source": [
    "import matplotlib.pyplot as plt \n",
    "import numpy as np\n",
    "import math as math"
   ]
  },
  {
   "cell_type": "code",
   "execution_count": 22,
   "id": "ded198b4",
   "metadata": {},
   "outputs": [
    {
     "name": "stdout",
     "output_type": "stream",
     "text": [
      "t = 0.004405549353822533 s\n",
      "x\n"
     ]
    }
   ],
   "source": [
    "y_max = 1.2*(10**-3) \n",
    "y = 1*(10**-3)\n",
    "w = math.sqrt(6/(1.2*(10**-4)))\n",
    "\n",
    "t = np.arcsin(y/y_max)/w\n",
    "\n",
    "print(f't = {t} s')\n",
    "\n",
    "T = 'x'\n",
    "\n",
    "print(T)\n"
   ]
  },
  {
   "cell_type": "code",
   "execution_count": 8,
   "id": "b3bb0656",
   "metadata": {},
   "outputs": [
    {
     "name": "stdout",
     "output_type": "stream",
     "text": [
      "-9\n",
      "0.01\n"
     ]
    }
   ],
   "source": [
    "print(10^-3)\n",
    "print(10e-3)"
   ]
  }
 ],
 "metadata": {
  "kernelspec": {
   "display_name": "Python 3 (ipykernel)",
   "language": "python",
   "name": "python3"
  },
  "language_info": {
   "codemirror_mode": {
    "name": "ipython",
    "version": 3
   },
   "file_extension": ".py",
   "mimetype": "text/x-python",
   "name": "python",
   "nbconvert_exporter": "python",
   "pygments_lexer": "ipython3",
   "version": "3.9.7"
  }
 },
 "nbformat": 4,
 "nbformat_minor": 5
}
